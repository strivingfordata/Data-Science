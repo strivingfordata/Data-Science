{
 "cells": [
  {
   "cell_type": "markdown",
   "metadata": {},
   "source": [
    "# The Best Time of the Day to Post on Hacker News\n",
    "\n",
    "\n",
    "\n",
    "This project aims to analyze a dataset of submissions to the popular technology site Hacker News. According to [Wikipedia](https://en.wikipedia.org/wiki/Hacker_News), Hacker News is a social news website focused on computer science and entrepreneurship and it is run by Y Combinator, Paul Graham's investment fund and startup incubator.\n",
    "\n",
    "\n",
    "The dataset we'll use is available [here](https://www.kaggle.com/hacker-news/hacker-news-posts), and has almost 300,000 rows, each row representing a post. It includes the following columns:\n",
    "\n",
    "* title: title of the post (self explanatory)\n",
    "\n",
    "* url: the url of the item being linked to\n",
    "\n",
    "* num_points: the number of upvotes the post received\n",
    "\n",
    "* num_comments: the number of comments the post received\n",
    "\n",
    "* author: the name of the account that made the post\n",
    "\n",
    "* created_at: the date and time the post was made (the time zone is Eastern Time in the US)\n",
    "\n",
    "For this project, we are particulary interested in posts whose titles begin with Ask HN and Show HN. The first one is used to aks the community a question while the second one is used to show the community something, it could be a project, a product, or just something the author finds interesting enough to share. Our goal is to determine if a post created in a particular moment of the day is more interacted with than posts cretated in other moments. In another words, we are interesd in answering the question: is there a best moment of the day to post on Hacker News?"
   ]
  },
  {
   "cell_type": "markdown",
   "metadata": {},
   "source": [
    "## Introduction\n",
    "\n",
    "First, we'll read data and remove the headers"
   ]
  },
  {
   "cell_type": "code",
   "execution_count": 1,
   "metadata": {
    "scrolled": true
   },
   "outputs": [
    {
     "data": {
      "text/plain": [
       "[['id', 'title', 'url', 'num_points', 'num_comments', 'author', 'created_at'],\n",
       " ['12224879',\n",
       "  'Interactive Dynamic Video',\n",
       "  'http://www.interactivedynamicvideo.com/',\n",
       "  '386',\n",
       "  '52',\n",
       "  'ne0phyte',\n",
       "  '8/4/2016 11:52'],\n",
       " ['10975351',\n",
       "  'How to Use Open Source and Shut the Fuck Up at the Same Time',\n",
       "  'http://hueniverse.com/2016/01/26/how-to-use-open-source-and-shut-the-fuck-up-at-the-same-time/',\n",
       "  '39',\n",
       "  '10',\n",
       "  'josep2',\n",
       "  '1/26/2016 19:30'],\n",
       " ['11964716',\n",
       "  \"Florida DJs May Face Felony for April Fools' Water Joke\",\n",
       "  'http://www.thewire.com/entertainment/2013/04/florida-djs-april-fools-water-joke/63798/',\n",
       "  '2',\n",
       "  '1',\n",
       "  'vezycash',\n",
       "  '6/23/2016 22:20'],\n",
       " ['11919867',\n",
       "  'Technology ventures: From Idea to Enterprise',\n",
       "  'https://www.amazon.com/Technology-Ventures-Enterprise-Thomas-Byers/dp/0073523429',\n",
       "  '3',\n",
       "  '1',\n",
       "  'hswarna',\n",
       "  '6/17/2016 0:01']]"
      ]
     },
     "execution_count": 1,
     "metadata": {},
     "output_type": "execute_result"
    }
   ],
   "source": [
    "#importing csv libreary to read the data\n",
    "from csv import reader\n",
    "opened_file = open('hacker_news.csv')\n",
    "reader_file = reader(opened_file)\n",
    "hn = list(reader_file)\n",
    "hn[:5]"
   ]
  },
  {
   "cell_type": "markdown",
   "metadata": {},
   "source": [
    "## Removing Headers from a List of Lists"
   ]
  },
  {
   "cell_type": "code",
   "execution_count": 2,
   "metadata": {
    "scrolled": true
   },
   "outputs": [
    {
     "name": "stdout",
     "output_type": "stream",
     "text": [
      "['id', 'title', 'url', 'num_points', 'num_comments', 'author', 'created_at']\n",
      "[['12224879', 'Interactive Dynamic Video', 'http://www.interactivedynamicvideo.com/', '386', '52', 'ne0phyte', '8/4/2016 11:52'], ['10975351', 'How to Use Open Source and Shut the Fuck Up at the Same Time', 'http://hueniverse.com/2016/01/26/how-to-use-open-source-and-shut-the-fuck-up-at-the-same-time/', '39', '10', 'josep2', '1/26/2016 19:30'], ['11964716', \"Florida DJs May Face Felony for April Fools' Water Joke\", 'http://www.thewire.com/entertainment/2013/04/florida-djs-april-fools-water-joke/63798/', '2', '1', 'vezycash', '6/23/2016 22:20'], ['11919867', 'Technology ventures: From Idea to Enterprise', 'https://www.amazon.com/Technology-Ventures-Enterprise-Thomas-Byers/dp/0073523429', '3', '1', 'hswarna', '6/17/2016 0:01'], ['10301696', 'Note by Note: The Making of Steinway L1037 (2007)', 'http://www.nytimes.com/2007/11/07/movies/07stein.html?_r=0', '8', '2', 'walterbell', '9/30/2015 4:12']]\n"
     ]
    }
   ],
   "source": [
    "# Remove headers\n",
    "headers = hn[0]\n",
    "hn = hn[1:]\n",
    "print(headers)\n",
    "print(hn[:5])"
   ]
  },
  {
   "cell_type": "markdown",
   "metadata": {},
   "source": [
    "We can see above that the data set contains the title of the posts, the number of comments for each post, and the date the post was created."
   ]
  },
  {
   "cell_type": "markdown",
   "metadata": {},
   "source": [
    "## Par 1 -  Display Number of Posts\n",
    "\n",
    "Now that the headers are removed we can start filtering our data - a process called Data Cleaning.\n",
    "\n",
    "In order to make proper use of our data, we will have to separate the Ask Posts from the Show Posts. Posts that do not fall under this category will be listed as Other Posts.\n",
    "\n",
    "In the next part of code, three lists were created: ask_posts, show_posts and other_posts.\n",
    "\n",
    "To find such posts we're going to make use of the startswith() function to look for ask hn and show hn in the beginning of title.\n",
    "\n",
    "The number of posts under each category is listed below."
   ]
  },
  {
   "cell_type": "code",
   "execution_count": 3,
   "metadata": {
    "scrolled": true
   },
   "outputs": [
    {
     "name": "stdout",
     "output_type": "stream",
     "text": [
      "RoboBrowser: Your friendly neighborhood web scraper\n",
      "No of ask posts is 1744\n",
      "No of show posts is 1162\n",
      "No of other posts is 17194\n"
     ]
    }
   ],
   "source": [
    "# creating 3 empty lists\n",
    "ask_posts = []\n",
    "show_posts = []\n",
    "other_posts = []\n",
    "\n",
    "# Iterating through the data set which has index 1:\n",
    "for row in hn:\n",
    "    title = row[1]\n",
    "    if title.lower().startswith('ask hn'):\n",
    "        ask_posts.append(row)\n",
    "        \n",
    "    elif title.lower().startswith('show hn'):\n",
    "        show_posts.append(row)\n",
    "        \n",
    "    else:\n",
    "        other_posts.append(row)\n",
    "\n",
    "# Output for each category\n",
    "\n",
    "print(title)\n",
    "print('No of ask posts is', len(ask_posts))\n",
    "print('No of show posts is', len(show_posts))\n",
    "print('No of other posts is', len(other_posts))"
   ]
  },
  {
   "cell_type": "code",
   "execution_count": 4,
   "metadata": {},
   "outputs": [
    {
     "name": "stdout",
     "output_type": "stream",
     "text": [
      "[['12296411', 'Ask HN: How to improve my personal website?', '', '2', '6', 'ahmedbaracat', '8/16/2016 9:55'], ['10610020', 'Ask HN: Am I the only one outraged by Twitter shutting down share counts?', '', '28', '29', 'tkfx', '11/22/2015 13:43'], ['11610310', 'Ask HN: Aby recent changes to CSS that broke mobile?', '', '1', '1', 'polskibus', '5/2/2016 10:14'], ['12210105', 'Ask HN: Looking for Employee #3 How do I do it?', '', '1', '3', 'sph130', '8/2/2016 14:20'], ['10394168', 'Ask HN: Someone offered to buy my browser extension from me. What now?', '', '28', '17', 'roykolak', '10/15/2015 16:38']]\n",
      "\n",
      "\n",
      "[['10627194', 'Show HN: Wio Link  ESP8266 Based Web of Things Hardware Development Platform', 'https://iot.seeed.cc', '26', '22', 'kfihihc', '11/25/2015 14:03'], ['10646440', 'Show HN: Something pointless I made', 'http://dn.ht/picklecat/', '747', '102', 'dhotson', '11/29/2015 22:46'], ['11590768', 'Show HN: Shanhu.io, a programming playground powered by e8vm', 'https://shanhu.io', '1', '1', 'h8liu', '4/28/2016 18:05'], ['12178806', 'Show HN: Webscope  Easy way for web developers to communicate with Clients', 'http://webscopeapp.com', '3', '3', 'fastbrick', '7/28/2016 7:11'], ['10872799', 'Show HN: GeoScreenshot  Easily test Geo-IP based web pages', 'https://www.geoscreenshot.com/', '1', '9', 'kpsychwave', '1/9/2016 20:45']]\n"
     ]
    }
   ],
   "source": [
    "# Display first five rows of each list:\n",
    "print(ask_posts[:5])\n",
    "print('\\n')\n",
    "print(show_posts[:5])"
   ]
  },
  {
   "cell_type": "markdown",
   "metadata": {},
   "source": [
    "## Part 2 - Which category of posts receive the most comments?\n",
    "\n",
    "To do this, we're going to compute the average number of comments for each category.\n",
    "\n",
    "In this section, we will make use of for loops for each category, then compute the average and compare."
   ]
  },
  {
   "cell_type": "code",
   "execution_count": 5,
   "metadata": {},
   "outputs": [
    {
     "name": "stdout",
     "output_type": "stream",
     "text": [
      "Average ask comments is 14.038417431192661\n",
      "Average show comments is 10.31669535283993\n"
     ]
    }
   ],
   "source": [
    "##Finding total no of comments in ask posts:\n",
    "\n",
    "total_ask_comments = 0\n",
    "for row in ask_posts:\n",
    "    total_ask_comments += int(row[4])   \n",
    "avg_ask_comments = (total_ask_comments)/len(ask_posts)\n",
    "\n",
    "\n",
    "#Finding total nr of comments in show posts:\n",
    "\n",
    "total_show_comments = 0\n",
    "for row in show_posts:\n",
    "    total_show_comments += int(row[4])\n",
    "    \n",
    "avg_show_comments  = (total_show_comments)/len(show_posts)\n",
    "\n",
    "print('Average ask comments is', (avg_ask_comments))\n",
    "\n",
    "print('Average show comments is', (avg_show_comments))"
   ]
  },
  {
   "cell_type": "markdown",
   "metadata": {},
   "source": [
    "The above results shows that on average, Ask Posts receive(14) more comments feedback than Show Posts. We'll focus our remaining analysis just on these posts."
   ]
  },
  {
   "cell_type": "markdown",
   "metadata": {},
   "source": [
    "## Part 3 - Does time affect the amount of feedback posts receive?\n",
    "\n",
    "The next interesting thing is to check whether the time at which the post is uploaded has any effect on the level of feedback that the post might receive, be it by comments or upvotes.\n",
    "\n",
    "In this part, we have used the datetime module to parse the data from the Date column in our dataset, which has an index number of 0.\n",
    "\n",
    "Furthermore, two dictionaries were created - One for the comments and the Other for the counts, relative to the hour, in 24-hr format."
   ]
  },
  {
   "cell_type": "code",
   "execution_count": 6,
   "metadata": {
    "collapsed": true
   },
   "outputs": [],
   "source": [
    "#finding the amount of ask posts created per hour\n",
    "import datetime as dt"
   ]
  },
  {
   "cell_type": "code",
   "execution_count": 7,
   "metadata": {},
   "outputs": [
    {
     "name": "stdout",
     "output_type": "stream",
     "text": [
      "The no of comments on ask posts by the hour are:\n"
     ]
    },
    {
     "data": {
      "text/plain": [
       "{'00': 447,\n",
       " '01': 683,\n",
       " '02': 1381,\n",
       " '03': 421,\n",
       " '04': 337,\n",
       " '05': 464,\n",
       " '06': 397,\n",
       " '07': 267,\n",
       " '08': 492,\n",
       " '09': 251,\n",
       " '10': 793,\n",
       " '11': 641,\n",
       " '12': 687,\n",
       " '13': 1253,\n",
       " '14': 1416,\n",
       " '15': 4477,\n",
       " '16': 1814,\n",
       " '17': 1146,\n",
       " '18': 1439,\n",
       " '19': 1188,\n",
       " '20': 1722,\n",
       " '21': 1745,\n",
       " '22': 479,\n",
       " '23': 543}"
      ]
     },
     "execution_count": 7,
     "metadata": {},
     "output_type": "execute_result"
    }
   ],
   "source": [
    "import datetime as dt # imported datetime module \n",
    "result_list = []\n",
    "\n",
    "for post in ask_posts:\n",
    "    result_list.append(\n",
    "        [post[6], int(post[4])]\n",
    "    )\n",
    "\n",
    "comments_by_hour = {}\n",
    "counts_by_hour = {}\n",
    "date_format = \"%m/%d/%Y %H:%M\"\n",
    "\n",
    "for each_row in result_list:\n",
    "    date = each_row[0]\n",
    "    comment = each_row[1]\n",
    "    time = dt.datetime.strptime(date, date_format).strftime(\"%H\")\n",
    "    if time in counts_by_hour:\n",
    "        comments_by_hour[time] += comment\n",
    "        counts_by_hour[time] += 1\n",
    "    else:\n",
    "        comments_by_hour[time] = comment\n",
    "        counts_by_hour[time] = 1\n",
    "\n",
    "print('The no of comments on ask posts by the hour are:')\n",
    "comments_by_hour"
   ]
  },
  {
   "cell_type": "markdown",
   "metadata": {},
   "source": [
    "The output above shows us that **Ask Posts** created at the hours 15:00 showed more potential of getting feedback from users on their posts. In general posts created in between noon hours say 13:00 to late hours of the day say 21:00 had more feedbacks on a posts.\n",
    "\n",
    "This could be due to the fact that during the early hours of the morning most users are highly engaged with work, school e.t.c Therefore as noon approaches the tension eases off, providing time for lesiure activities.\n",
    "\n",
    "There's a little oddity which shows a large number of posts made during the early hours of the day, precisely 02:00.This result can also be exhibited by calculating the average comments by the hour."
   ]
  },
  {
   "cell_type": "code",
   "execution_count": 8,
   "metadata": {},
   "outputs": [
    {
     "data": {
      "text/plain": [
       "[['20', 21.525],\n",
       " ['06', 9.022727272727273],\n",
       " ['03', 7.796296296296297],\n",
       " ['05', 10.08695652173913],\n",
       " ['01', 11.383333333333333],\n",
       " ['21', 16.009174311926607],\n",
       " ['12', 9.41095890410959],\n",
       " ['23', 7.985294117647059],\n",
       " ['22', 6.746478873239437],\n",
       " ['17', 11.46],\n",
       " ['02', 23.810344827586206],\n",
       " ['14', 13.233644859813085],\n",
       " ['00', 8.127272727272727],\n",
       " ['19', 10.8],\n",
       " ['11', 11.051724137931034],\n",
       " ['08', 10.25],\n",
       " ['09', 5.5777777777777775],\n",
       " ['04', 7.170212765957447],\n",
       " ['16', 16.796296296296298],\n",
       " ['10', 13.440677966101696],\n",
       " ['13', 14.741176470588234],\n",
       " ['15', 38.5948275862069],\n",
       " ['18', 13.20183486238532],\n",
       " ['07', 7.852941176470588]]"
      ]
     },
     "execution_count": 8,
     "metadata": {},
     "output_type": "execute_result"
    }
   ],
   "source": [
    "#Calculating the average number of comments for Ask Hn posts per hour\n",
    "\n",
    "avg_by_hour = []\n",
    "\n",
    "for hr in comments_by_hour:\n",
    "    avg_by_hour.append([hr, comments_by_hour[hr] / counts_by_hour[hr]])\n",
    "\n",
    "avg_by_hour"
   ]
  },
  {
   "cell_type": "markdown",
   "metadata": {},
   "source": [
    "The result above further affirms the results gotten before. **E.g** There are approximately 39 **Ask Posts** made at 15:00 every day which reflects on the feedback/comments from users which is about 4477 comments. Also we also notice that, there are lots of posts made between noon hours to before midnight, which accounts for the large amount of comments seen during the day.\n",
    "\n",
    "This also accounts for the oddity we identified in the earlier cells above."
   ]
  },
  {
   "cell_type": "code",
   "execution_count": 9,
   "metadata": {},
   "outputs": [
    {
     "name": "stdout",
     "output_type": "stream",
     "text": [
      "[[21.525, '20'], [9.022727272727273, '06'], [7.796296296296297, '03'], [10.08695652173913, '05'], [11.383333333333333, '01'], [16.009174311926607, '21'], [9.41095890410959, '12'], [7.985294117647059, '23'], [6.746478873239437, '22'], [11.46, '17'], [23.810344827586206, '02'], [13.233644859813085, '14'], [8.127272727272727, '00'], [10.8, '19'], [11.051724137931034, '11'], [10.25, '08'], [5.5777777777777775, '09'], [7.170212765957447, '04'], [16.796296296296298, '16'], [13.440677966101696, '10'], [14.741176470588234, '13'], [38.5948275862069, '15'], [13.20183486238532, '18'], [7.852941176470588, '07']]\n"
     ]
    },
    {
     "data": {
      "text/plain": [
       "[[38.5948275862069, '15'],\n",
       " [23.810344827586206, '02'],\n",
       " [21.525, '20'],\n",
       " [16.796296296296298, '16'],\n",
       " [16.009174311926607, '21'],\n",
       " [14.741176470588234, '13'],\n",
       " [13.440677966101696, '10'],\n",
       " [13.233644859813085, '14'],\n",
       " [13.20183486238532, '18'],\n",
       " [11.46, '17'],\n",
       " [11.383333333333333, '01'],\n",
       " [11.051724137931034, '11'],\n",
       " [10.8, '19'],\n",
       " [10.25, '08'],\n",
       " [10.08695652173913, '05'],\n",
       " [9.41095890410959, '12'],\n",
       " [9.022727272727273, '06'],\n",
       " [8.127272727272727, '00'],\n",
       " [7.985294117647059, '23'],\n",
       " [7.852941176470588, '07'],\n",
       " [7.796296296296297, '03'],\n",
       " [7.170212765957447, '04'],\n",
       " [6.746478873239437, '22'],\n",
       " [5.5777777777777775, '09']]"
      ]
     },
     "execution_count": 9,
     "metadata": {},
     "output_type": "execute_result"
    }
   ],
   "source": [
    "#Sorting and printing the value from a list of list\n",
    "swap_avg_by_hour = []\n",
    "for row in avg_by_hour:\n",
    "    swap_avg_by_hour.append([row[1], row[0]])\n",
    "print(swap_avg_by_hour)\n",
    "\n",
    "sorted_swap = sorted(swap_avg_by_hour, reverse = True)\n",
    "sorted_swap"
   ]
  },
  {
   "cell_type": "code",
   "execution_count": 10,
   "metadata": {},
   "outputs": [
    {
     "name": "stdout",
     "output_type": "stream",
     "text": [
      "Top 5 Hours for 'Ask HN' Comments\n",
      "15:00: 38.59 average comments per post\n",
      "02:00: 23.81 average comments per post\n",
      "20:00: 21.52 average comments per post\n",
      "16:00: 16.80 average comments per post\n",
      "21:00: 16.01 average comments per post\n"
     ]
    }
   ],
   "source": [
    "# Sort the values and print the the 5 hours with the highest average comments.\n",
    "\n",
    "print(\"Top 5 Hours for 'Ask HN' Comments\")\n",
    "for avg, hr in sorted_swap[:5]:\n",
    "    print(\n",
    "        \"{}: {:.2f} average comments per post\".format(\n",
    "            dt.datetime.strptime(hr, \"%H\").strftime(\"%H:%M\"),avg\n",
    "        )\n",
    "    )"
   ]
  },
  {
   "cell_type": "markdown",
   "metadata": {
    "collapsed": true
   },
   "source": [
    "The result of the values shown above shows to gain maximum made on a post, a post should be made most preferably at 15:00. However other suitable hours could be 2:00, 20:00, 16:00 and 21:00."
   ]
  },
  {
   "cell_type": "markdown",
   "metadata": {},
   "source": [
    "## Part 4 - Calulating the amounts of points either Ask post or Show post gets."
   ]
  },
  {
   "cell_type": "code",
   "execution_count": 11,
   "metadata": {},
   "outputs": [
    {
     "name": "stdout",
     "output_type": "stream",
     "text": [
      "The average number of counts for Ask Posts is 15.06\n"
     ]
    }
   ],
   "source": [
    "total_ask_count = 0\n",
    "for row in ask_posts:\n",
    "    count = row[3]\n",
    "    if count != '':\n",
    "        count = int(row[3])\n",
    "        total_ask_count += count\n",
    "    \n",
    "    \n",
    "avg_ask_counts = total_ask_count/len(ask_posts)\n",
    "print('The average number of counts for Ask Posts is {:.2f}'.format(avg_ask_counts))"
   ]
  },
  {
   "cell_type": "code",
   "execution_count": 12,
   "metadata": {},
   "outputs": [
    {
     "name": "stdout",
     "output_type": "stream",
     "text": [
      "The average number of counts for Show Posts is 27.56\n"
     ]
    }
   ],
   "source": [
    "# Finding the average number of counts for Show Posts\n",
    "\n",
    "total_show_count = 0\n",
    "for row in show_posts:\n",
    "    show_count = row[3]\n",
    "    if show_count != '':\n",
    "        show_count = int(row[3])\n",
    "        total_show_count += show_count\n",
    "    \n",
    "    \n",
    "avg_show_counts = total_show_count/len(show_posts)\n",
    "print('The average number of counts for Show Posts is {:.2f}'.format(avg_show_counts))\n"
   ]
  },
  {
   "cell_type": "markdown",
   "metadata": {},
   "source": [
    "The values shown above implies that there are more counts(rating) for **Show posts** than **Ask posts**. This simply means that the community values contributions of projects, products or generally something intresting to the platform than only seeking information through **Ask posts**."
   ]
  },
  {
   "cell_type": "markdown",
   "metadata": {},
   "source": [
    "## Part 5 - Does posts created at a certain time more upvoted than others?\n",
    "\n",
    "It could be that an article or post uploaded at a certain time might get more attention or upvotes than posts uploaded at a different time. For example, we already saw that posts uploaded at 3pm get more feedback, i.e. comments back than posts uploaded at any other time of day.\n",
    "\n",
    "In this section, we will see whether time has any effect on the upvotes a certain post may get.\n",
    "\n",
    "We will do this in the following order:\n",
    "\n",
    "* Ask Posts\n",
    "* Show Posts\n",
    "* Other Posts"
   ]
  },
  {
   "cell_type": "code",
   "execution_count": 13,
   "metadata": {},
   "outputs": [
    {
     "name": "stdout",
     "output_type": "stream",
     "text": [
      "the number of counts on ask posts by the hour are:\n"
     ]
    },
    {
     "data": {
      "text/plain": [
       "{'00': 55,\n",
       " '01': 60,\n",
       " '02': 58,\n",
       " '03': 54,\n",
       " '04': 47,\n",
       " '05': 46,\n",
       " '06': 44,\n",
       " '07': 34,\n",
       " '08': 48,\n",
       " '09': 45,\n",
       " '10': 59,\n",
       " '11': 58,\n",
       " '12': 73,\n",
       " '13': 85,\n",
       " '14': 107,\n",
       " '15': 116,\n",
       " '16': 108,\n",
       " '17': 100,\n",
       " '18': 109,\n",
       " '19': 110,\n",
       " '20': 80,\n",
       " '21': 109,\n",
       " '22': 71,\n",
       " '23': 68}"
      ]
     },
     "execution_count": 13,
     "metadata": {},
     "output_type": "execute_result"
    }
   ],
   "source": [
    "ask_list_counts_vs_time = []\n",
    "# total=0\n",
    "\n",
    "# Checking for upvoting vs. time for Ask Posts\n",
    "for posts in ask_posts:\n",
    "    created = posts[6]\n",
    "    counts = int(posts[3])\n",
    "    ask_list_counts_vs_time.append([created, counts])\n",
    "    \n",
    "ask_counts_by_hour = {}\n",
    "ask_comments_by_hour = {}\n",
    "date_format = '%m/%d/%Y %H:%M'\n",
    "\n",
    "for row in ask_list_counts_vs_time:\n",
    "    date = row[0]\n",
    "    count = row[1]\n",
    "    created_obj = dt.datetime.strptime(date, date_format).strftime('%H')\n",
    "    if created_obj not in ask_counts_by_hour:\n",
    "        ask_counts_by_hour[created_obj] = 1\n",
    "        ask_comments_by_hour[created_obj] = count\n",
    "    else:\n",
    "        ask_counts_by_hour[created_obj] += 1\n",
    "        ask_comments_by_hour[created_obj] += count\n",
    "        \n",
    "print('the number of counts on ask posts by the hour are:')\n",
    "ask_counts_by_hour  "
   ]
  },
  {
   "cell_type": "code",
   "execution_count": 14,
   "metadata": {},
   "outputs": [
    {
     "name": "stdout",
     "output_type": "stream",
     "text": [
      "the number of counts on show posts by the hour are:\n"
     ]
    },
    {
     "data": {
      "text/plain": [
       "{'00': 31,\n",
       " '01': 28,\n",
       " '02': 30,\n",
       " '03': 27,\n",
       " '04': 26,\n",
       " '05': 19,\n",
       " '06': 16,\n",
       " '07': 26,\n",
       " '08': 34,\n",
       " '09': 30,\n",
       " '10': 36,\n",
       " '11': 44,\n",
       " '12': 61,\n",
       " '13': 99,\n",
       " '14': 86,\n",
       " '15': 78,\n",
       " '16': 93,\n",
       " '17': 93,\n",
       " '18': 61,\n",
       " '19': 55,\n",
       " '20': 60,\n",
       " '21': 47,\n",
       " '22': 46,\n",
       " '23': 36}"
      ]
     },
     "execution_count": 14,
     "metadata": {},
     "output_type": "execute_result"
    }
   ],
   "source": [
    "show_list_counts_vs_time = []\n",
    "\n",
    "# Checking for upvoting vs. time for Show Posts\n",
    "for post in show_posts:\n",
    "    created = post[6]\n",
    "    counts = int(post[3])\n",
    "    show_list_counts_vs_time.append([created, counts])\n",
    "    \n",
    "show_counts_by_hour = {}\n",
    "show_comments_by_hour = {}\n",
    "date_format = '%m/%d/%Y %H:%M'\n",
    "\n",
    "for row in show_list_counts_vs_time:\n",
    "    date = row[0]\n",
    "    count = row[1]\n",
    "    show_created_obj = dt.datetime.strptime(date, date_format).strftime('%H')\n",
    "    if show_created_obj not in show_counts_by_hour:\n",
    "        show_counts_by_hour[show_created_obj] = 1\n",
    "        show_comments_by_hour[show_created_obj] = count\n",
    "    else:\n",
    "        show_counts_by_hour[show_created_obj] += 1\n",
    "        show_comments_by_hour[show_created_obj] += count\n",
    "        \n",
    "print('the number of counts on show posts by the hour are:')\n",
    "show_counts_by_hour"
   ]
  },
  {
   "cell_type": "markdown",
   "metadata": {},
   "source": [
    "## Conclusion\n",
    "From the results above we can conclude the following points:-\n",
    "\n",
    "* Show Posts uploaded between 13:00 and 17:00 are the most likely to get the   highest number of upvotes.\n",
    "* Ask Posts also get a high number of upvotes, especially those uploaded       between 13:00 and 21:00.\n",
    "\n",
    "In fact, one can deduce that people spend more time looking at Ask Posts (13:00 - 21:00) rather than at Show Posts."
   ]
  }
 ],
 "metadata": {
  "kernelspec": {
   "display_name": "Python 3",
   "language": "python",
   "name": "python3"
  },
  "language_info": {
   "codemirror_mode": {
    "name": "ipython",
    "version": 3
   },
   "file_extension": ".py",
   "mimetype": "text/x-python",
   "name": "python",
   "nbconvert_exporter": "python",
   "pygments_lexer": "ipython3",
   "version": "3.7.7"
  }
 },
 "nbformat": 4,
 "nbformat_minor": 2
}
